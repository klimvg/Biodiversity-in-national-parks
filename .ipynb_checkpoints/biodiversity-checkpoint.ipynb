{
 "cells": [
  {
   "cell_type": "markdown",
   "metadata": {},
   "source": [
    "# Biodiversity in national parks\n",
    "## Overview\n",
    "In this project I will be working with two related databases portraying biodiversity across the different species and information about it's observations.\n",
    "\n",
    "Here are the variables of each dataset.\n",
    "\n",
    "Species_info:\n",
    "* __category:__ class of animal;\n",
    "* __scientific_name:__ the scientific name of each species;\n",
    "* __common_names:__ the common name of each species;\n",
    "* __conservation_status:__ each species' current conservation status.\n",
    "\n",
    "Observations:\n",
    "* __scientific_name:__ the scientific name of each species;\n",
    "* __park_name:__ park where species were found;\n",
    "* __observations:__ the number of times each species was observed in the park.\n",
    "***\n",
    "In this project I will be looking into following questions:\n",
    "1. What is the distribution of conservation statuses for different animals?\n",
    "2. What is the correlation between conservation status of the animal and it's number of observations?\n",
    "3. Is there a correlation between species of different categories being assigned with conservations status?\n",
    "4. What is the distribution of animal species' observations across different parks?\n",
    "5. What park has the largest number of observations of the animals with each type of conservation status?"
   ]
  },
  {
   "cell_type": "markdown",
   "metadata": {},
   "source": [
    "## Data investigation\n",
    "Let's see if the data has any missing values or if it needs tidying."
   ]
  },
  {
   "cell_type": "code",
   "execution_count": 1,
   "metadata": {},
   "outputs": [],
   "source": [
    "#Importing needed libraries\n",
    "import pandas as pd\n",
    "import matplotlib.pyplot as plt\n",
    "import seaborn as sns\n",
    "import numpy as np\n",
    "from scipy.stats import chi2_contingency"
   ]
  },
  {
   "cell_type": "markdown",
   "metadata": {},
   "source": [
    "Further investigation shows that both `observations` and `species` datasets have `scientific_name` duplicates inside. It is unclear why the duplicates occured but inspectation of each table provides some useful information. Duplicates in `species` dataset appear to have the same data formatted differently. This is why I will be dropping duplicates in this table.  \n",
    "Duplicates in `observation` dataset, on the other hand, seem to have different data in `observations` column. It is hard to say why are duplicates there. One potential reason is the data collection error. I will be holding on to this theory and sum the data in duplicated rows."
   ]
  },
  {
   "cell_type": "code",
   "execution_count": 2,
   "metadata": {
    "scrolled": false
   },
   "outputs": [
    {
     "data": {
      "text/html": [
       "<div>\n",
       "<style scoped>\n",
       "    .dataframe tbody tr th:only-of-type {\n",
       "        vertical-align: middle;\n",
       "    }\n",
       "\n",
       "    .dataframe tbody tr th {\n",
       "        vertical-align: top;\n",
       "    }\n",
       "\n",
       "    .dataframe thead th {\n",
       "        text-align: right;\n",
       "    }\n",
       "</style>\n",
       "<table border=\"1\" class=\"dataframe\">\n",
       "  <thead>\n",
       "    <tr style=\"text-align: right;\">\n",
       "      <th></th>\n",
       "      <th>category</th>\n",
       "      <th>scientific_name</th>\n",
       "      <th>common_names</th>\n",
       "      <th>conservation_status</th>\n",
       "    </tr>\n",
       "  </thead>\n",
       "  <tbody>\n",
       "    <tr>\n",
       "      <th>0</th>\n",
       "      <td>Mammal</td>\n",
       "      <td>Clethrionomys gapperi gapperi</td>\n",
       "      <td>Gapper's Red-Backed Vole</td>\n",
       "      <td>NaN</td>\n",
       "    </tr>\n",
       "    <tr>\n",
       "      <th>1</th>\n",
       "      <td>Mammal</td>\n",
       "      <td>Bos bison</td>\n",
       "      <td>American Bison, Bison</td>\n",
       "      <td>NaN</td>\n",
       "    </tr>\n",
       "    <tr>\n",
       "      <th>2</th>\n",
       "      <td>Mammal</td>\n",
       "      <td>Bos taurus</td>\n",
       "      <td>Aurochs, Aurochs, Domestic Cattle (Feral), Dom...</td>\n",
       "      <td>NaN</td>\n",
       "    </tr>\n",
       "    <tr>\n",
       "      <th>3</th>\n",
       "      <td>Mammal</td>\n",
       "      <td>Ovis aries</td>\n",
       "      <td>Domestic Sheep, Mouflon, Red Sheep, Sheep (Feral)</td>\n",
       "      <td>NaN</td>\n",
       "    </tr>\n",
       "    <tr>\n",
       "      <th>4</th>\n",
       "      <td>Mammal</td>\n",
       "      <td>Cervus elaphus</td>\n",
       "      <td>Wapiti Or Elk</td>\n",
       "      <td>NaN</td>\n",
       "    </tr>\n",
       "    <tr>\n",
       "      <th>...</th>\n",
       "      <td>...</td>\n",
       "      <td>...</td>\n",
       "      <td>...</td>\n",
       "      <td>...</td>\n",
       "    </tr>\n",
       "    <tr>\n",
       "      <th>5536</th>\n",
       "      <td>Vascular Plant</td>\n",
       "      <td>Solanum parishii</td>\n",
       "      <td>Parish's Nightshade</td>\n",
       "      <td>NaN</td>\n",
       "    </tr>\n",
       "    <tr>\n",
       "      <th>5537</th>\n",
       "      <td>Vascular Plant</td>\n",
       "      <td>Solanum xanti</td>\n",
       "      <td>Chaparral Nightshade, Purple Nightshade</td>\n",
       "      <td>NaN</td>\n",
       "    </tr>\n",
       "    <tr>\n",
       "      <th>5538</th>\n",
       "      <td>Vascular Plant</td>\n",
       "      <td>Parthenocissus vitacea</td>\n",
       "      <td>Thicket Creeper, Virginia Creeper, Woodbine</td>\n",
       "      <td>NaN</td>\n",
       "    </tr>\n",
       "    <tr>\n",
       "      <th>5539</th>\n",
       "      <td>Vascular Plant</td>\n",
       "      <td>Vitis californica</td>\n",
       "      <td>California Grape, California Wild Grape</td>\n",
       "      <td>NaN</td>\n",
       "    </tr>\n",
       "    <tr>\n",
       "      <th>5540</th>\n",
       "      <td>Vascular Plant</td>\n",
       "      <td>Tribulus terrestris</td>\n",
       "      <td>Bullhead, Caltrop, Goathead, Mexican Sandbur, ...</td>\n",
       "      <td>NaN</td>\n",
       "    </tr>\n",
       "  </tbody>\n",
       "</table>\n",
       "<p>5541 rows × 4 columns</p>\n",
       "</div>"
      ],
      "text/plain": [
       "            category                scientific_name  \\\n",
       "0             Mammal  Clethrionomys gapperi gapperi   \n",
       "1             Mammal                      Bos bison   \n",
       "2             Mammal                     Bos taurus   \n",
       "3             Mammal                     Ovis aries   \n",
       "4             Mammal                 Cervus elaphus   \n",
       "...              ...                            ...   \n",
       "5536  Vascular Plant               Solanum parishii   \n",
       "5537  Vascular Plant                  Solanum xanti   \n",
       "5538  Vascular Plant         Parthenocissus vitacea   \n",
       "5539  Vascular Plant              Vitis californica   \n",
       "5540  Vascular Plant            Tribulus terrestris   \n",
       "\n",
       "                                           common_names conservation_status  \n",
       "0                              Gapper's Red-Backed Vole                 NaN  \n",
       "1                                 American Bison, Bison                 NaN  \n",
       "2     Aurochs, Aurochs, Domestic Cattle (Feral), Dom...                 NaN  \n",
       "3     Domestic Sheep, Mouflon, Red Sheep, Sheep (Feral)                 NaN  \n",
       "4                                         Wapiti Or Elk                 NaN  \n",
       "...                                                 ...                 ...  \n",
       "5536                                Parish's Nightshade                 NaN  \n",
       "5537            Chaparral Nightshade, Purple Nightshade                 NaN  \n",
       "5538        Thicket Creeper, Virginia Creeper, Woodbine                 NaN  \n",
       "5539            California Grape, California Wild Grape                 NaN  \n",
       "5540  Bullhead, Caltrop, Goathead, Mexican Sandbur, ...                 NaN  \n",
       "\n",
       "[5541 rows x 4 columns]"
      ]
     },
     "metadata": {},
     "output_type": "display_data"
    },
    {
     "data": {
      "text/html": [
       "<div>\n",
       "<style scoped>\n",
       "    .dataframe tbody tr th:only-of-type {\n",
       "        vertical-align: middle;\n",
       "    }\n",
       "\n",
       "    .dataframe tbody tr th {\n",
       "        vertical-align: top;\n",
       "    }\n",
       "\n",
       "    .dataframe thead th {\n",
       "        text-align: right;\n",
       "    }\n",
       "</style>\n",
       "<table border=\"1\" class=\"dataframe\">\n",
       "  <thead>\n",
       "    <tr style=\"text-align: right;\">\n",
       "      <th></th>\n",
       "      <th>scientific_name</th>\n",
       "      <th>park_name</th>\n",
       "      <th>observations</th>\n",
       "    </tr>\n",
       "  </thead>\n",
       "  <tbody>\n",
       "    <tr>\n",
       "      <th>0</th>\n",
       "      <td>Abies bifolia</td>\n",
       "      <td>Bryce National Park</td>\n",
       "      <td>109</td>\n",
       "    </tr>\n",
       "    <tr>\n",
       "      <th>1</th>\n",
       "      <td>Abies bifolia</td>\n",
       "      <td>Great Smoky Mountains National Park</td>\n",
       "      <td>72</td>\n",
       "    </tr>\n",
       "    <tr>\n",
       "      <th>2</th>\n",
       "      <td>Abies bifolia</td>\n",
       "      <td>Yellowstone National Park</td>\n",
       "      <td>215</td>\n",
       "    </tr>\n",
       "    <tr>\n",
       "      <th>3</th>\n",
       "      <td>Abies bifolia</td>\n",
       "      <td>Yosemite National Park</td>\n",
       "      <td>136</td>\n",
       "    </tr>\n",
       "    <tr>\n",
       "      <th>4</th>\n",
       "      <td>Abies concolor</td>\n",
       "      <td>Bryce National Park</td>\n",
       "      <td>83</td>\n",
       "    </tr>\n",
       "    <tr>\n",
       "      <th>...</th>\n",
       "      <td>...</td>\n",
       "      <td>...</td>\n",
       "      <td>...</td>\n",
       "    </tr>\n",
       "    <tr>\n",
       "      <th>22159</th>\n",
       "      <td>Zygodon viridissimus</td>\n",
       "      <td>Yosemite National Park</td>\n",
       "      <td>159</td>\n",
       "    </tr>\n",
       "    <tr>\n",
       "      <th>22160</th>\n",
       "      <td>Zygodon viridissimus var. rupestris</td>\n",
       "      <td>Bryce National Park</td>\n",
       "      <td>102</td>\n",
       "    </tr>\n",
       "    <tr>\n",
       "      <th>22161</th>\n",
       "      <td>Zygodon viridissimus var. rupestris</td>\n",
       "      <td>Great Smoky Mountains National Park</td>\n",
       "      <td>102</td>\n",
       "    </tr>\n",
       "    <tr>\n",
       "      <th>22162</th>\n",
       "      <td>Zygodon viridissimus var. rupestris</td>\n",
       "      <td>Yellowstone National Park</td>\n",
       "      <td>237</td>\n",
       "    </tr>\n",
       "    <tr>\n",
       "      <th>22163</th>\n",
       "      <td>Zygodon viridissimus var. rupestris</td>\n",
       "      <td>Yosemite National Park</td>\n",
       "      <td>210</td>\n",
       "    </tr>\n",
       "  </tbody>\n",
       "</table>\n",
       "<p>22164 rows × 3 columns</p>\n",
       "</div>"
      ],
      "text/plain": [
       "                           scientific_name  \\\n",
       "0                            Abies bifolia   \n",
       "1                            Abies bifolia   \n",
       "2                            Abies bifolia   \n",
       "3                            Abies bifolia   \n",
       "4                           Abies concolor   \n",
       "...                                    ...   \n",
       "22159                 Zygodon viridissimus   \n",
       "22160  Zygodon viridissimus var. rupestris   \n",
       "22161  Zygodon viridissimus var. rupestris   \n",
       "22162  Zygodon viridissimus var. rupestris   \n",
       "22163  Zygodon viridissimus var. rupestris   \n",
       "\n",
       "                                 park_name  observations  \n",
       "0                      Bryce National Park           109  \n",
       "1      Great Smoky Mountains National Park            72  \n",
       "2                Yellowstone National Park           215  \n",
       "3                   Yosemite National Park           136  \n",
       "4                      Bryce National Park            83  \n",
       "...                                    ...           ...  \n",
       "22159               Yosemite National Park           159  \n",
       "22160                  Bryce National Park           102  \n",
       "22161  Great Smoky Mountains National Park           102  \n",
       "22162            Yellowstone National Park           237  \n",
       "22163               Yosemite National Park           210  \n",
       "\n",
       "[22164 rows x 3 columns]"
      ]
     },
     "metadata": {},
     "output_type": "display_data"
    }
   ],
   "source": [
    "#Reading databases\n",
    "species = pd.read_csv('species_info.csv')\n",
    "observations = pd.read_csv('observations.csv')\n",
    "\n",
    "#Dropping duplicates in species dataset\n",
    "species.drop_duplicates(subset='scientific_name', inplace=True, ignore_index=True)\n",
    "\n",
    "#Summing observation value in duplicates\n",
    "observations = observations.groupby(['scientific_name', 'park_name']).agg({'observations': 'sum'}).reset_index()\n",
    "\n",
    "\n",
    "display(species)\n",
    "display(observations)"
   ]
  },
  {
   "cell_type": "code",
   "execution_count": 3,
   "metadata": {
    "scrolled": false
   },
   "outputs": [
    {
     "name": "stdout",
     "output_type": "stream",
     "text": [
      "<class 'pandas.core.frame.DataFrame'>\n",
      "RangeIndex: 5541 entries, 0 to 5540\n",
      "Data columns (total 4 columns):\n",
      " #   Column               Non-Null Count  Dtype \n",
      "---  ------               --------------  ----- \n",
      " 0   category             5541 non-null   object\n",
      " 1   scientific_name      5541 non-null   object\n",
      " 2   common_names         5541 non-null   object\n",
      " 3   conservation_status  178 non-null    object\n",
      "dtypes: object(4)\n",
      "memory usage: 173.3+ KB\n",
      "<class 'pandas.core.frame.DataFrame'>\n",
      "RangeIndex: 22164 entries, 0 to 22163\n",
      "Data columns (total 3 columns):\n",
      " #   Column           Non-Null Count  Dtype \n",
      "---  ------           --------------  ----- \n",
      " 0   scientific_name  22164 non-null  object\n",
      " 1   park_name        22164 non-null  object\n",
      " 2   observations     22164 non-null  int64 \n",
      "dtypes: int64(1), object(2)\n",
      "memory usage: 519.6+ KB\n"
     ]
    },
    {
     "data": {
      "text/plain": [
       "None"
      ]
     },
     "metadata": {},
     "output_type": "display_data"
    },
    {
     "data": {
      "text/plain": [
       "None"
      ]
     },
     "metadata": {},
     "output_type": "display_data"
    },
    {
     "data": {
      "text/plain": [
       "array([nan, 'Species of Concern', 'Endangered', 'Threatened',\n",
       "       'In Recovery'], dtype=object)"
      ]
     },
     "metadata": {},
     "output_type": "display_data"
    },
    {
     "data": {
      "text/plain": [
       "array(['Mammal', 'Bird', 'Reptile', 'Amphibian', 'Fish', 'Vascular Plant',\n",
       "       'Nonvascular Plant'], dtype=object)"
      ]
     },
     "metadata": {},
     "output_type": "display_data"
    },
    {
     "data": {
      "text/plain": [
       "array(['Bryce National Park', 'Great Smoky Mountains National Park',\n",
       "       'Yellowstone National Park', 'Yosemite National Park'],\n",
       "      dtype=object)"
      ]
     },
     "metadata": {},
     "output_type": "display_data"
    }
   ],
   "source": [
    "display(species.info(), observations.info())\n",
    "display(species.conservation_status.unique())\n",
    "display(species['category'].unique())\n",
    "display(observations['park_name'].unique())"
   ]
  },
  {
   "cell_type": "markdown",
   "metadata": {},
   "source": [
    "***\n",
    "Data investigation provides us with following information:\n",
    "* There are 5541 species in the dataset;\n",
    "* There are 5 types of data in `conservation_status` column showing the level of protection given to species;\n",
    "* The only column with missing values apeears to be `conservation_status` in `species` database which means that the species is not in danger;\n",
    "* There are 7 observed species' categories in the dataset;\n",
    "* There are 4 observed national parks."
   ]
  },
  {
   "cell_type": "markdown",
   "metadata": {},
   "source": [
    "## Data Analysis\n",
    "### Species\n",
    "Let's dig into the data and find out something new about it.\n",
    "#### Conservation status inside a category"
   ]
  },
  {
   "cell_type": "code",
   "execution_count": 4,
   "metadata": {
    "scrolled": false
   },
   "outputs": [
    {
     "data": {
      "image/png": "[encoded data removed]",
      "text/plain": [
       "<Figure size 432x288 with 1 Axes>"
      ]
     },
     "metadata": {
      "needs_background": "light"
     },
     "output_type": "display_data"
    },
    {
     "data": {
      "image/png": "[encoded data removed]",
      "text/plain": [
       "<Figure size 432x288 with 1 Axes>"
      ]
     },
     "metadata": {
      "needs_background": "light"
     },
     "output_type": "display_data"
    },
    {
     "data": {
      "text/plain": [
       "<Figure size 432x288 with 0 Axes>"
      ]
     },
     "metadata": {},
     "output_type": "display_data"
    }
   ],
   "source": [
    "#First, lets look at the species category distribution and conservation status distribution\n",
    "species.conservation_status.fillna('No status', inplace=True)\n",
    "species_conservation = species[~(species.conservation_status == 'No status')]\n",
    "\n",
    "sns.countplot(x='category', data=species)\n",
    "plt.xticks(rotation=30)\n",
    "plt.title('Categories of species')\n",
    "plt.show()\n",
    "plt.clf()\n",
    "\n",
    "sns.countplot(x='category', hue='conservation_status', data=species_conservation)\n",
    "plt.xticks(rotation=30)\n",
    "plt.title('Categories of species with conservation status assigned')\n",
    "plt.show()\n",
    "plt.clf()"
   ]
  },
  {
   "cell_type": "markdown",
   "metadata": {},
   "source": [
    "Vascular plants take significant amount of space on the species' category plot which explains it's high bar on conservation status plot.\n",
    "Birds, on the other hand, skyrocket on the second graph even though they are relatively small on the first graph.\n",
    "\n",
    "We will have to look into proportion of species with conservation status assigned to the total count of the category."
   ]
  },
  {
   "cell_type": "code",
   "execution_count": 5,
   "metadata": {
    "scrolled": false
   },
   "outputs": [
    {
     "name": "stdout",
     "output_type": "stream",
     "text": [
      "Proportion of Mammals' species with conservation status assigned is 0.17\n",
      "Proportion of Birds' species with conservation status assigned is 0.15\n",
      "Proportion of Reptiles' species with conservation status assigned is 0.06\n",
      "Proportion of Amphibians' species with conservation status assigned is 0.09\n",
      "Proportion of Fishs' species with conservation status assigned is 0.08\n",
      "Proportion of Vascular Plants' species with conservation status assigned is 0.01\n",
      "Proportion of Nonvascular Plants' species with conservation status assigned is 0.02\n"
     ]
    }
   ],
   "source": [
    "for i in species['category'].unique():\n",
    "    proportion = round(len(species_conservation[species_conservation.category == i]) / len(species[species.category == i]), 2)\n",
    "    print(\"Proportion of \" + i + \"s' species with conservation status assigned is \" + str(proportion))"
   ]
  },
  {
   "cell_type": "markdown",
   "metadata": {},
   "source": [
    "Turns out mammals and birds have the biggest conservation category proportion with 17% and 15% of its' species having conservation category.\n",
    "Plants have the smallest proportion with 1% and 2% of its species having conservation category assigned to them.  \n",
    "Let's convert this data into a table and put it on a graph."
   ]
  },
  {
   "cell_type": "code",
   "execution_count": 6,
   "metadata": {},
   "outputs": [
    {
     "data": {
      "text/html": [
       "<div>\n",
       "<style scoped>\n",
       "    .dataframe tbody tr th:only-of-type {\n",
       "        vertical-align: middle;\n",
       "    }\n",
       "\n",
       "    .dataframe tbody tr th {\n",
       "        vertical-align: top;\n",
       "    }\n",
       "\n",
       "    .dataframe thead th {\n",
       "        text-align: right;\n",
       "    }\n",
       "</style>\n",
       "<table border=\"1\" class=\"dataframe\">\n",
       "  <thead>\n",
       "    <tr style=\"text-align: right;\">\n",
       "      <th></th>\n",
       "      <th>category</th>\n",
       "      <th>not_protected</th>\n",
       "      <th>protected</th>\n",
       "      <th>percent_protected</th>\n",
       "    </tr>\n",
       "  </thead>\n",
       "  <tbody>\n",
       "    <tr>\n",
       "      <th>0</th>\n",
       "      <td>Amphibian</td>\n",
       "      <td>72</td>\n",
       "      <td>7</td>\n",
       "      <td>8.86</td>\n",
       "    </tr>\n",
       "    <tr>\n",
       "      <th>1</th>\n",
       "      <td>Bird</td>\n",
       "      <td>413</td>\n",
       "      <td>75</td>\n",
       "      <td>15.37</td>\n",
       "    </tr>\n",
       "    <tr>\n",
       "      <th>2</th>\n",
       "      <td>Fish</td>\n",
       "      <td>115</td>\n",
       "      <td>10</td>\n",
       "      <td>8.00</td>\n",
       "    </tr>\n",
       "    <tr>\n",
       "      <th>3</th>\n",
       "      <td>Mammal</td>\n",
       "      <td>146</td>\n",
       "      <td>30</td>\n",
       "      <td>17.05</td>\n",
       "    </tr>\n",
       "    <tr>\n",
       "      <th>4</th>\n",
       "      <td>Nonvascular Plant</td>\n",
       "      <td>328</td>\n",
       "      <td>5</td>\n",
       "      <td>1.50</td>\n",
       "    </tr>\n",
       "    <tr>\n",
       "      <th>5</th>\n",
       "      <td>Reptile</td>\n",
       "      <td>73</td>\n",
       "      <td>5</td>\n",
       "      <td>6.41</td>\n",
       "    </tr>\n",
       "    <tr>\n",
       "      <th>6</th>\n",
       "      <td>Vascular Plant</td>\n",
       "      <td>4216</td>\n",
       "      <td>46</td>\n",
       "      <td>1.08</td>\n",
       "    </tr>\n",
       "  </tbody>\n",
       "</table>\n",
       "</div>"
      ],
      "text/plain": [
       "            category  not_protected  protected  percent_protected\n",
       "0          Amphibian             72          7               8.86\n",
       "1               Bird            413         75              15.37\n",
       "2               Fish            115         10               8.00\n",
       "3             Mammal            146         30              17.05\n",
       "4  Nonvascular Plant            328          5               1.50\n",
       "5            Reptile             73          5               6.41\n",
       "6     Vascular Plant           4216         46               1.08"
      ]
     },
     "execution_count": 6,
     "metadata": {},
     "output_type": "execute_result"
    }
   ],
   "source": [
    "#create a new variable showing if conservation status is assigned\n",
    "species['status_assigned'] = species.conservation_status != 'No status'\n",
    "\n",
    "category_counts = species.groupby(['category', 'status_assigned'])\\\n",
    "                            .scientific_name.count()\\\n",
    "                            .reset_index()\\\n",
    "                            .pivot(columns='status_assigned',\n",
    "                                   index='category',\n",
    "                                   values='scientific_name').reset_index()\n",
    "\n",
    "category_counts.columns = ['category', 'not_protected', 'protected']\n",
    "category_counts['percent_protected'] = round(category_counts.protected / (category_counts.not_protected + category_counts.protected) * 100, 2)\n",
    "\n",
    "category_counts"
   ]
  },
  {
   "cell_type": "code",
   "execution_count": 7,
   "metadata": {},
   "outputs": [
    {
     "data": {
      "image/png": "[encoded data removed]",
      "text/plain": [
       "<Figure size 432x288 with 1 Axes>"
      ]
     },
     "metadata": {
      "needs_background": "light"
     },
     "output_type": "display_data"
    },
    {
     "data": {
      "text/plain": [
       "<Figure size 432x288 with 0 Axes>"
      ]
     },
     "metadata": {},
     "output_type": "display_data"
    }
   ],
   "source": [
    "sns.barplot(x='category', y='percent_protected', data=category_counts, order=species.category.unique())\n",
    "plt.title('Percent of species with conservation status assigned')\n",
    "plt.xticks(rotation=30)\n",
    "plt.show()\n",
    "plt.clf()"
   ]
  },
  {
   "cell_type": "markdown",
   "metadata": {},
   "source": [
    "#### Statistical Significance"
   ]
  },
  {
   "cell_type": "markdown",
   "metadata": {},
   "source": [
    "In this section I will look into the question:  \n",
    "Is there a correlation between one category's number of species with conservation status assigned to them and other category.  \n",
    "\n",
    "To do this I will be using chi squared test which will show the possibility of two variables being related.\n",
    "To use chi test I will need to make a cross table which looks like this:  \n",
    "  \n",
    "||Protected|Not protected|\n",
    "|-|-|-|\n",
    "|Category1|?|?|\n",
    "|Categort2|?|?|\n",
    "\n",
    "In this test I will be comparing most protected species (`Mammals`) with the second most protected species (`Birds`) and the least protected animals species (`Reptiles`)."
   ]
  },
  {
   "cell_type": "code",
   "execution_count": 8,
   "metadata": {},
   "outputs": [
    {
     "data": {
      "text/plain": [
       "(0.1617014831654557,\n",
       " 0.6875948096661336,\n",
       " 1,\n",
       " array([[ 27.8313253, 148.1686747],\n",
       "        [ 77.1686747, 410.8313253]]))"
      ]
     },
     "metadata": {},
     "output_type": "display_data"
    }
   ],
   "source": [
    "#Mammals and birds\n",
    "contingency1 = [[30, 146],\n",
    "               [75, 413]]\n",
    "display(chi2_contingency(contingency1))"
   ]
  },
  {
   "cell_type": "markdown",
   "metadata": {},
   "source": [
    "The first number printed out is chi2, and the second is p-value. Since the contingency table is 2x2 we are looking for a chi2 value of 4 or higher and a p-value of 0.05 and lower.  \n",
    "The numbers we got are far from the borderline so there is probably little to no relation between mammals and birds conservation status."
   ]
  },
  {
   "cell_type": "code",
   "execution_count": 9,
   "metadata": {},
   "outputs": [
    {
     "data": {
      "text/plain": [
       "(4.289183096203645,\n",
       " 0.03835559022969898,\n",
       " 1,\n",
       " array([[ 24.2519685, 151.7480315],\n",
       "        [ 10.7480315,  67.2519685]]))"
      ]
     },
     "metadata": {},
     "output_type": "display_data"
    }
   ],
   "source": [
    "#Mammals and reptiles\n",
    "contingency2 = [[30, 146],\n",
    "               [5, 73]]\n",
    "display(chi2_contingency(contingency2))"
   ]
  },
  {
   "cell_type": "markdown",
   "metadata": {},
   "source": [
    "Numbers we've got in the output are close to the ones we are looking for. This could mean that there is correalation between mammals and reptiles conservation statuses. But it still might be wrong so we will need extra data to research these relations."
   ]
  },
  {
   "cell_type": "markdown",
   "metadata": {},
   "source": [
    "### Observations\n",
    "#### Species diversity\n",
    "Now, let's see how many species have been spot in each park and how many of them have been assigned with conservation category.  \n",
    "Firstly, I will merge two datasets so we will be able to work with the `category` and `conservation_status` variables."
   ]
  },
  {
   "cell_type": "code",
   "execution_count": 10,
   "metadata": {},
   "outputs": [],
   "source": [
    "observations_merged = observations.merge(species, on='scientific_name')"
   ]
  },
  {
   "cell_type": "code",
   "execution_count": 11,
   "metadata": {},
   "outputs": [
    {
     "data": {
      "text/html": [
       "<div>\n",
       "<style scoped>\n",
       "    .dataframe tbody tr th:only-of-type {\n",
       "        vertical-align: middle;\n",
       "    }\n",
       "\n",
       "    .dataframe tbody tr th {\n",
       "        vertical-align: top;\n",
       "    }\n",
       "\n",
       "    .dataframe thead th {\n",
       "        text-align: right;\n",
       "    }\n",
       "</style>\n",
       "<table border=\"1\" class=\"dataframe\">\n",
       "  <thead>\n",
       "    <tr style=\"text-align: right;\">\n",
       "      <th></th>\n",
       "      <th>scientific_name</th>\n",
       "      <th>park_name</th>\n",
       "      <th>observations</th>\n",
       "      <th>category</th>\n",
       "      <th>common_names</th>\n",
       "      <th>conservation_status</th>\n",
       "      <th>status_assigned</th>\n",
       "    </tr>\n",
       "  </thead>\n",
       "  <tbody>\n",
       "    <tr>\n",
       "      <th>0</th>\n",
       "      <td>Abies bifolia</td>\n",
       "      <td>Bryce National Park</td>\n",
       "      <td>109</td>\n",
       "      <td>Vascular Plant</td>\n",
       "      <td>Rocky Mountain Alpine Fir</td>\n",
       "      <td>No status</td>\n",
       "      <td>False</td>\n",
       "    </tr>\n",
       "    <tr>\n",
       "      <th>1</th>\n",
       "      <td>Abies bifolia</td>\n",
       "      <td>Great Smoky Mountains National Park</td>\n",
       "      <td>72</td>\n",
       "      <td>Vascular Plant</td>\n",
       "      <td>Rocky Mountain Alpine Fir</td>\n",
       "      <td>No status</td>\n",
       "      <td>False</td>\n",
       "    </tr>\n",
       "    <tr>\n",
       "      <th>2</th>\n",
       "      <td>Abies bifolia</td>\n",
       "      <td>Yellowstone National Park</td>\n",
       "      <td>215</td>\n",
       "      <td>Vascular Plant</td>\n",
       "      <td>Rocky Mountain Alpine Fir</td>\n",
       "      <td>No status</td>\n",
       "      <td>False</td>\n",
       "    </tr>\n",
       "    <tr>\n",
       "      <th>3</th>\n",
       "      <td>Abies bifolia</td>\n",
       "      <td>Yosemite National Park</td>\n",
       "      <td>136</td>\n",
       "      <td>Vascular Plant</td>\n",
       "      <td>Rocky Mountain Alpine Fir</td>\n",
       "      <td>No status</td>\n",
       "      <td>False</td>\n",
       "    </tr>\n",
       "    <tr>\n",
       "      <th>4</th>\n",
       "      <td>Abies concolor</td>\n",
       "      <td>Bryce National Park</td>\n",
       "      <td>83</td>\n",
       "      <td>Vascular Plant</td>\n",
       "      <td>Balsam Fir, Colorado Fir, Concolor Fir, Silver...</td>\n",
       "      <td>No status</td>\n",
       "      <td>False</td>\n",
       "    </tr>\n",
       "    <tr>\n",
       "      <th>...</th>\n",
       "      <td>...</td>\n",
       "      <td>...</td>\n",
       "      <td>...</td>\n",
       "      <td>...</td>\n",
       "      <td>...</td>\n",
       "      <td>...</td>\n",
       "      <td>...</td>\n",
       "    </tr>\n",
       "    <tr>\n",
       "      <th>22159</th>\n",
       "      <td>Zygodon viridissimus</td>\n",
       "      <td>Yosemite National Park</td>\n",
       "      <td>159</td>\n",
       "      <td>Nonvascular Plant</td>\n",
       "      <td>Zygodon Moss</td>\n",
       "      <td>No status</td>\n",
       "      <td>False</td>\n",
       "    </tr>\n",
       "    <tr>\n",
       "      <th>22160</th>\n",
       "      <td>Zygodon viridissimus var. rupestris</td>\n",
       "      <td>Bryce National Park</td>\n",
       "      <td>102</td>\n",
       "      <td>Nonvascular Plant</td>\n",
       "      <td>Zygodon Moss</td>\n",
       "      <td>No status</td>\n",
       "      <td>False</td>\n",
       "    </tr>\n",
       "    <tr>\n",
       "      <th>22161</th>\n",
       "      <td>Zygodon viridissimus var. rupestris</td>\n",
       "      <td>Great Smoky Mountains National Park</td>\n",
       "      <td>102</td>\n",
       "      <td>Nonvascular Plant</td>\n",
       "      <td>Zygodon Moss</td>\n",
       "      <td>No status</td>\n",
       "      <td>False</td>\n",
       "    </tr>\n",
       "    <tr>\n",
       "      <th>22162</th>\n",
       "      <td>Zygodon viridissimus var. rupestris</td>\n",
       "      <td>Yellowstone National Park</td>\n",
       "      <td>237</td>\n",
       "      <td>Nonvascular Plant</td>\n",
       "      <td>Zygodon Moss</td>\n",
       "      <td>No status</td>\n",
       "      <td>False</td>\n",
       "    </tr>\n",
       "    <tr>\n",
       "      <th>22163</th>\n",
       "      <td>Zygodon viridissimus var. rupestris</td>\n",
       "      <td>Yosemite National Park</td>\n",
       "      <td>210</td>\n",
       "      <td>Nonvascular Plant</td>\n",
       "      <td>Zygodon Moss</td>\n",
       "      <td>No status</td>\n",
       "      <td>False</td>\n",
       "    </tr>\n",
       "  </tbody>\n",
       "</table>\n",
       "<p>22164 rows × 7 columns</p>\n",
       "</div>"
      ],
      "text/plain": [
       "                           scientific_name  \\\n",
       "0                            Abies bifolia   \n",
       "1                            Abies bifolia   \n",
       "2                            Abies bifolia   \n",
       "3                            Abies bifolia   \n",
       "4                           Abies concolor   \n",
       "...                                    ...   \n",
       "22159                 Zygodon viridissimus   \n",
       "22160  Zygodon viridissimus var. rupestris   \n",
       "22161  Zygodon viridissimus var. rupestris   \n",
       "22162  Zygodon viridissimus var. rupestris   \n",
       "22163  Zygodon viridissimus var. rupestris   \n",
       "\n",
       "                                 park_name  observations           category  \\\n",
       "0                      Bryce National Park           109     Vascular Plant   \n",
       "1      Great Smoky Mountains National Park            72     Vascular Plant   \n",
       "2                Yellowstone National Park           215     Vascular Plant   \n",
       "3                   Yosemite National Park           136     Vascular Plant   \n",
       "4                      Bryce National Park            83     Vascular Plant   \n",
       "...                                    ...           ...                ...   \n",
       "22159               Yosemite National Park           159  Nonvascular Plant   \n",
       "22160                  Bryce National Park           102  Nonvascular Plant   \n",
       "22161  Great Smoky Mountains National Park           102  Nonvascular Plant   \n",
       "22162            Yellowstone National Park           237  Nonvascular Plant   \n",
       "22163               Yosemite National Park           210  Nonvascular Plant   \n",
       "\n",
       "                                            common_names conservation_status  \\\n",
       "0                              Rocky Mountain Alpine Fir           No status   \n",
       "1                              Rocky Mountain Alpine Fir           No status   \n",
       "2                              Rocky Mountain Alpine Fir           No status   \n",
       "3                              Rocky Mountain Alpine Fir           No status   \n",
       "4      Balsam Fir, Colorado Fir, Concolor Fir, Silver...           No status   \n",
       "...                                                  ...                 ...   \n",
       "22159                                       Zygodon Moss           No status   \n",
       "22160                                       Zygodon Moss           No status   \n",
       "22161                                       Zygodon Moss           No status   \n",
       "22162                                       Zygodon Moss           No status   \n",
       "22163                                       Zygodon Moss           No status   \n",
       "\n",
       "       status_assigned  \n",
       "0                False  \n",
       "1                False  \n",
       "2                False  \n",
       "3                False  \n",
       "4                False  \n",
       "...                ...  \n",
       "22159            False  \n",
       "22160            False  \n",
       "22161            False  \n",
       "22162            False  \n",
       "22163            False  \n",
       "\n",
       "[22164 rows x 7 columns]"
      ]
     },
     "metadata": {},
     "output_type": "display_data"
    }
   ],
   "source": [
    "display(observations_merged)"
   ]
  },
  {
   "cell_type": "markdown",
   "metadata": {},
   "source": [
    "Now, let's look how many unique animals have been spot in each park."
   ]
  },
  {
   "cell_type": "code",
   "execution_count": 12,
   "metadata": {},
   "outputs": [
    {
     "data": {
      "image/png": "[encoded data removed]",
      "text/plain": [
       "<Figure size 432x288 with 1 Axes>"
      ]
     },
     "metadata": {
      "needs_background": "light"
     },
     "output_type": "display_data"
    },
    {
     "data": {
      "text/html": [
       "<div>\n",
       "<style scoped>\n",
       "    .dataframe tbody tr th:only-of-type {\n",
       "        vertical-align: middle;\n",
       "    }\n",
       "\n",
       "    .dataframe tbody tr th {\n",
       "        vertical-align: top;\n",
       "    }\n",
       "\n",
       "    .dataframe thead th {\n",
       "        text-align: right;\n",
       "    }\n",
       "</style>\n",
       "<table border=\"1\" class=\"dataframe\">\n",
       "  <thead>\n",
       "    <tr style=\"text-align: right;\">\n",
       "      <th></th>\n",
       "      <th>scientific_name</th>\n",
       "      <th>observations</th>\n",
       "      <th>category</th>\n",
       "      <th>common_names</th>\n",
       "      <th>conservation_status</th>\n",
       "      <th>status_assigned</th>\n",
       "    </tr>\n",
       "    <tr>\n",
       "      <th>park_name</th>\n",
       "      <th></th>\n",
       "      <th></th>\n",
       "      <th></th>\n",
       "      <th></th>\n",
       "      <th></th>\n",
       "      <th></th>\n",
       "    </tr>\n",
       "  </thead>\n",
       "  <tbody>\n",
       "    <tr>\n",
       "      <th>Bryce National Park</th>\n",
       "      <td>5541</td>\n",
       "      <td>5541</td>\n",
       "      <td>5541</td>\n",
       "      <td>5541</td>\n",
       "      <td>5541</td>\n",
       "      <td>5541</td>\n",
       "    </tr>\n",
       "    <tr>\n",
       "      <th>Great Smoky Mountains National Park</th>\n",
       "      <td>5541</td>\n",
       "      <td>5541</td>\n",
       "      <td>5541</td>\n",
       "      <td>5541</td>\n",
       "      <td>5541</td>\n",
       "      <td>5541</td>\n",
       "    </tr>\n",
       "    <tr>\n",
       "      <th>Yellowstone National Park</th>\n",
       "      <td>5541</td>\n",
       "      <td>5541</td>\n",
       "      <td>5541</td>\n",
       "      <td>5541</td>\n",
       "      <td>5541</td>\n",
       "      <td>5541</td>\n",
       "    </tr>\n",
       "    <tr>\n",
       "      <th>Yosemite National Park</th>\n",
       "      <td>5541</td>\n",
       "      <td>5541</td>\n",
       "      <td>5541</td>\n",
       "      <td>5541</td>\n",
       "      <td>5541</td>\n",
       "      <td>5541</td>\n",
       "    </tr>\n",
       "  </tbody>\n",
       "</table>\n",
       "</div>"
      ],
      "text/plain": [
       "                                     scientific_name  observations  category  \\\n",
       "park_name                                                                      \n",
       "Bryce National Park                             5541          5541      5541   \n",
       "Great Smoky Mountains National Park             5541          5541      5541   \n",
       "Yellowstone National Park                       5541          5541      5541   \n",
       "Yosemite National Park                          5541          5541      5541   \n",
       "\n",
       "                                     common_names  conservation_status  \\\n",
       "park_name                                                                \n",
       "Bryce National Park                          5541                 5541   \n",
       "Great Smoky Mountains National Park          5541                 5541   \n",
       "Yellowstone National Park                    5541                 5541   \n",
       "Yosemite National Park                       5541                 5541   \n",
       "\n",
       "                                     status_assigned  \n",
       "park_name                                             \n",
       "Bryce National Park                             5541  \n",
       "Great Smoky Mountains National Park             5541  \n",
       "Yellowstone National Park                       5541  \n",
       "Yosemite National Park                          5541  "
      ]
     },
     "metadata": {},
     "output_type": "display_data"
    },
    {
     "data": {
      "text/plain": [
       "<Figure size 432x288 with 0 Axes>"
      ]
     },
     "metadata": {},
     "output_type": "display_data"
    }
   ],
   "source": [
    "sns.countplot(x='park_name', data=observations_merged)\n",
    "plt.title('Species observed in different parks')\n",
    "plt.xticks(rotation=30)\n",
    "plt.show()\n",
    "plt.clf()\n",
    "\n",
    "display(observations_merged.groupby('park_name').count())"
   ]
  },
  {
   "cell_type": "markdown",
   "metadata": {},
   "source": [
    "It appears that every given species has been observed in each park at least once."
   ]
  },
  {
   "cell_type": "markdown",
   "metadata": {},
   "source": [
    "#### Protected species diversity\n",
    "Let's see how ofthen can you observe rare species in each park."
   ]
  },
  {
   "cell_type": "code",
   "execution_count": 13,
   "metadata": {},
   "outputs": [
    {
     "data": {
      "image/png": "[encoded data removed]",
      "text/plain": [
       "<Figure size 432x288 with 1 Axes>"
      ]
     },
     "metadata": {
      "needs_background": "light"
     },
     "output_type": "display_data"
    },
    {
     "data": {
      "text/plain": [
       "<Figure size 432x288 with 0 Axes>"
      ]
     },
     "metadata": {},
     "output_type": "display_data"
    }
   ],
   "source": [
    "sns.barplot(x='park_name', y='observations', hue='conservation_status', data=observations_merged)\n",
    "plt.title('Species observations by park and conservation status')\n",
    "plt.xticks(rotation=30)\n",
    "plt.show()\n",
    "plt.clf()"
   ]
  },
  {
   "cell_type": "markdown",
   "metadata": {},
   "source": [
    "While proportion of observations for each conservation status stays the same in each park (species with no conservation status are more likely to be observed than endangered species), numbers of observations are different. "
   ]
  },
  {
   "cell_type": "markdown",
   "metadata": {},
   "source": [
    "#### Species diversity by category\n",
    "Let's see what category of species is the most observed in each park."
   ]
  },
  {
   "cell_type": "code",
   "execution_count": 14,
   "metadata": {},
   "outputs": [
    {
     "data": {
      "text/html": [
       "<div>\n",
       "<style scoped>\n",
       "    .dataframe tbody tr th:only-of-type {\n",
       "        vertical-align: middle;\n",
       "    }\n",
       "\n",
       "    .dataframe tbody tr th {\n",
       "        vertical-align: top;\n",
       "    }\n",
       "\n",
       "    .dataframe thead th {\n",
       "        text-align: right;\n",
       "    }\n",
       "</style>\n",
       "<table border=\"1\" class=\"dataframe\">\n",
       "  <thead>\n",
       "    <tr style=\"text-align: right;\">\n",
       "      <th></th>\n",
       "      <th>park_name</th>\n",
       "      <th>category</th>\n",
       "      <th>observations</th>\n",
       "      <th>observations_sum</th>\n",
       "      <th>percent</th>\n",
       "    </tr>\n",
       "  </thead>\n",
       "  <tbody>\n",
       "    <tr>\n",
       "      <th>6</th>\n",
       "      <td>Bryce National Park</td>\n",
       "      <td>Vascular Plant</td>\n",
       "      <td>443083</td>\n",
       "      <td>576025</td>\n",
       "      <td>0.77</td>\n",
       "    </tr>\n",
       "    <tr>\n",
       "      <th>1</th>\n",
       "      <td>Bryce National Park</td>\n",
       "      <td>Bird</td>\n",
       "      <td>51647</td>\n",
       "      <td>576025</td>\n",
       "      <td>0.09</td>\n",
       "    </tr>\n",
       "    <tr>\n",
       "      <th>4</th>\n",
       "      <td>Bryce National Park</td>\n",
       "      <td>Nonvascular Plant</td>\n",
       "      <td>32992</td>\n",
       "      <td>576025</td>\n",
       "      <td>0.06</td>\n",
       "    </tr>\n",
       "    <tr>\n",
       "      <th>3</th>\n",
       "      <td>Bryce National Park</td>\n",
       "      <td>Mammal</td>\n",
       "      <td>20550</td>\n",
       "      <td>576025</td>\n",
       "      <td>0.04</td>\n",
       "    </tr>\n",
       "    <tr>\n",
       "      <th>2</th>\n",
       "      <td>Bryce National Park</td>\n",
       "      <td>Fish</td>\n",
       "      <td>12423</td>\n",
       "      <td>576025</td>\n",
       "      <td>0.02</td>\n",
       "    </tr>\n",
       "    <tr>\n",
       "      <th>0</th>\n",
       "      <td>Bryce National Park</td>\n",
       "      <td>Amphibian</td>\n",
       "      <td>7380</td>\n",
       "      <td>576025</td>\n",
       "      <td>0.01</td>\n",
       "    </tr>\n",
       "    <tr>\n",
       "      <th>5</th>\n",
       "      <td>Bryce National Park</td>\n",
       "      <td>Reptile</td>\n",
       "      <td>7950</td>\n",
       "      <td>576025</td>\n",
       "      <td>0.01</td>\n",
       "    </tr>\n",
       "    <tr>\n",
       "      <th>13</th>\n",
       "      <td>Great Smoky Mountains National Park</td>\n",
       "      <td>Vascular Plant</td>\n",
       "      <td>333619</td>\n",
       "      <td>431820</td>\n",
       "      <td>0.77</td>\n",
       "    </tr>\n",
       "    <tr>\n",
       "      <th>8</th>\n",
       "      <td>Great Smoky Mountains National Park</td>\n",
       "      <td>Bird</td>\n",
       "      <td>37728</td>\n",
       "      <td>431820</td>\n",
       "      <td>0.09</td>\n",
       "    </tr>\n",
       "    <tr>\n",
       "      <th>11</th>\n",
       "      <td>Great Smoky Mountains National Park</td>\n",
       "      <td>Nonvascular Plant</td>\n",
       "      <td>24857</td>\n",
       "      <td>431820</td>\n",
       "      <td>0.06</td>\n",
       "    </tr>\n",
       "    <tr>\n",
       "      <th>10</th>\n",
       "      <td>Great Smoky Mountains National Park</td>\n",
       "      <td>Mammal</td>\n",
       "      <td>15012</td>\n",
       "      <td>431820</td>\n",
       "      <td>0.03</td>\n",
       "    </tr>\n",
       "    <tr>\n",
       "      <th>9</th>\n",
       "      <td>Great Smoky Mountains National Park</td>\n",
       "      <td>Fish</td>\n",
       "      <td>9206</td>\n",
       "      <td>431820</td>\n",
       "      <td>0.02</td>\n",
       "    </tr>\n",
       "    <tr>\n",
       "      <th>7</th>\n",
       "      <td>Great Smoky Mountains National Park</td>\n",
       "      <td>Amphibian</td>\n",
       "      <td>5707</td>\n",
       "      <td>431820</td>\n",
       "      <td>0.01</td>\n",
       "    </tr>\n",
       "    <tr>\n",
       "      <th>12</th>\n",
       "      <td>Great Smoky Mountains National Park</td>\n",
       "      <td>Reptile</td>\n",
       "      <td>5691</td>\n",
       "      <td>431820</td>\n",
       "      <td>0.01</td>\n",
       "    </tr>\n",
       "    <tr>\n",
       "      <th>20</th>\n",
       "      <td>Yellowstone National Park</td>\n",
       "      <td>Vascular Plant</td>\n",
       "      <td>1112927</td>\n",
       "      <td>1443562</td>\n",
       "      <td>0.77</td>\n",
       "    </tr>\n",
       "    <tr>\n",
       "      <th>15</th>\n",
       "      <td>Yellowstone National Park</td>\n",
       "      <td>Bird</td>\n",
       "      <td>127251</td>\n",
       "      <td>1443562</td>\n",
       "      <td>0.09</td>\n",
       "    </tr>\n",
       "    <tr>\n",
       "      <th>18</th>\n",
       "      <td>Yellowstone National Park</td>\n",
       "      <td>Nonvascular Plant</td>\n",
       "      <td>83021</td>\n",
       "      <td>1443562</td>\n",
       "      <td>0.06</td>\n",
       "    </tr>\n",
       "    <tr>\n",
       "      <th>17</th>\n",
       "      <td>Yellowstone National Park</td>\n",
       "      <td>Mammal</td>\n",
       "      <td>50795</td>\n",
       "      <td>1443562</td>\n",
       "      <td>0.04</td>\n",
       "    </tr>\n",
       "    <tr>\n",
       "      <th>16</th>\n",
       "      <td>Yellowstone National Park</td>\n",
       "      <td>Fish</td>\n",
       "      <td>30574</td>\n",
       "      <td>1443562</td>\n",
       "      <td>0.02</td>\n",
       "    </tr>\n",
       "    <tr>\n",
       "      <th>14</th>\n",
       "      <td>Yellowstone National Park</td>\n",
       "      <td>Amphibian</td>\n",
       "      <td>19440</td>\n",
       "      <td>1443562</td>\n",
       "      <td>0.01</td>\n",
       "    </tr>\n",
       "    <tr>\n",
       "      <th>19</th>\n",
       "      <td>Yellowstone National Park</td>\n",
       "      <td>Reptile</td>\n",
       "      <td>19554</td>\n",
       "      <td>1443562</td>\n",
       "      <td>0.01</td>\n",
       "    </tr>\n",
       "    <tr>\n",
       "      <th>27</th>\n",
       "      <td>Yosemite National Park</td>\n",
       "      <td>Vascular Plant</td>\n",
       "      <td>665461</td>\n",
       "      <td>863332</td>\n",
       "      <td>0.77</td>\n",
       "    </tr>\n",
       "    <tr>\n",
       "      <th>22</th>\n",
       "      <td>Yosemite National Park</td>\n",
       "      <td>Bird</td>\n",
       "      <td>76207</td>\n",
       "      <td>863332</td>\n",
       "      <td>0.09</td>\n",
       "    </tr>\n",
       "    <tr>\n",
       "      <th>25</th>\n",
       "      <td>Yosemite National Park</td>\n",
       "      <td>Nonvascular Plant</td>\n",
       "      <td>49783</td>\n",
       "      <td>863332</td>\n",
       "      <td>0.06</td>\n",
       "    </tr>\n",
       "    <tr>\n",
       "      <th>24</th>\n",
       "      <td>Yosemite National Park</td>\n",
       "      <td>Mammal</td>\n",
       "      <td>30339</td>\n",
       "      <td>863332</td>\n",
       "      <td>0.04</td>\n",
       "    </tr>\n",
       "    <tr>\n",
       "      <th>23</th>\n",
       "      <td>Yosemite National Park</td>\n",
       "      <td>Fish</td>\n",
       "      <td>18615</td>\n",
       "      <td>863332</td>\n",
       "      <td>0.02</td>\n",
       "    </tr>\n",
       "    <tr>\n",
       "      <th>21</th>\n",
       "      <td>Yosemite National Park</td>\n",
       "      <td>Amphibian</td>\n",
       "      <td>11444</td>\n",
       "      <td>863332</td>\n",
       "      <td>0.01</td>\n",
       "    </tr>\n",
       "    <tr>\n",
       "      <th>26</th>\n",
       "      <td>Yosemite National Park</td>\n",
       "      <td>Reptile</td>\n",
       "      <td>11483</td>\n",
       "      <td>863332</td>\n",
       "      <td>0.01</td>\n",
       "    </tr>\n",
       "  </tbody>\n",
       "</table>\n",
       "</div>"
      ],
      "text/plain": [
       "                              park_name           category  observations  \\\n",
       "6                   Bryce National Park     Vascular Plant        443083   \n",
       "1                   Bryce National Park               Bird         51647   \n",
       "4                   Bryce National Park  Nonvascular Plant         32992   \n",
       "3                   Bryce National Park             Mammal         20550   \n",
       "2                   Bryce National Park               Fish         12423   \n",
       "0                   Bryce National Park          Amphibian          7380   \n",
       "5                   Bryce National Park            Reptile          7950   \n",
       "13  Great Smoky Mountains National Park     Vascular Plant        333619   \n",
       "8   Great Smoky Mountains National Park               Bird         37728   \n",
       "11  Great Smoky Mountains National Park  Nonvascular Plant         24857   \n",
       "10  Great Smoky Mountains National Park             Mammal         15012   \n",
       "9   Great Smoky Mountains National Park               Fish          9206   \n",
       "7   Great Smoky Mountains National Park          Amphibian          5707   \n",
       "12  Great Smoky Mountains National Park            Reptile          5691   \n",
       "20            Yellowstone National Park     Vascular Plant       1112927   \n",
       "15            Yellowstone National Park               Bird        127251   \n",
       "18            Yellowstone National Park  Nonvascular Plant         83021   \n",
       "17            Yellowstone National Park             Mammal         50795   \n",
       "16            Yellowstone National Park               Fish         30574   \n",
       "14            Yellowstone National Park          Amphibian         19440   \n",
       "19            Yellowstone National Park            Reptile         19554   \n",
       "27               Yosemite National Park     Vascular Plant        665461   \n",
       "22               Yosemite National Park               Bird         76207   \n",
       "25               Yosemite National Park  Nonvascular Plant         49783   \n",
       "24               Yosemite National Park             Mammal         30339   \n",
       "23               Yosemite National Park               Fish         18615   \n",
       "21               Yosemite National Park          Amphibian         11444   \n",
       "26               Yosemite National Park            Reptile         11483   \n",
       "\n",
       "    observations_sum  percent  \n",
       "6             576025     0.77  \n",
       "1             576025     0.09  \n",
       "4             576025     0.06  \n",
       "3             576025     0.04  \n",
       "2             576025     0.02  \n",
       "0             576025     0.01  \n",
       "5             576025     0.01  \n",
       "13            431820     0.77  \n",
       "8             431820     0.09  \n",
       "11            431820     0.06  \n",
       "10            431820     0.03  \n",
       "9             431820     0.02  \n",
       "7             431820     0.01  \n",
       "12            431820     0.01  \n",
       "20           1443562     0.77  \n",
       "15           1443562     0.09  \n",
       "18           1443562     0.06  \n",
       "17           1443562     0.04  \n",
       "16           1443562     0.02  \n",
       "14           1443562     0.01  \n",
       "19           1443562     0.01  \n",
       "27            863332     0.77  \n",
       "22            863332     0.09  \n",
       "25            863332     0.06  \n",
       "24            863332     0.04  \n",
       "23            863332     0.02  \n",
       "21            863332     0.01  \n",
       "26            863332     0.01  "
      ]
     },
     "metadata": {},
     "output_type": "display_data"
    }
   ],
   "source": [
    "#create a new table for plotting the graph\n",
    "category_observations = observations_merged.groupby(['park_name', 'category']).agg({'observations': 'sum'}).reset_index()\n",
    "\n",
    "park_observations_overall = category_observations.groupby('park_name').agg({'observations': 'sum'}).reset_index()\n",
    "\n",
    "category_observations = category_observations.merge(park_observations_overall, on='park_name', suffixes=['', '_sum'])\n",
    "\n",
    "category_observations['percent'] = round(category_observations.observations / category_observations.observations_sum, 2)\n",
    "\n",
    "category_observations = category_observations.sort_values(by=['park_name', 'percent'], ascending=[True, False])\n",
    "\n",
    "display(category_observations)"
   ]
  },
  {
   "cell_type": "code",
   "execution_count": 15,
   "metadata": {},
   "outputs": [
    {
     "data": {
      "image/png": "[encoded data removed]",
      "text/plain": [
       "<Figure size 432x288 with 1 Axes>"
      ]
     },
     "metadata": {
      "needs_background": "light"
     },
     "output_type": "display_data"
    },
    {
     "data": {
      "text/plain": [
       "<Figure size 432x288 with 0 Axes>"
      ]
     },
     "metadata": {},
     "output_type": "display_data"
    }
   ],
   "source": [
    "sns.barplot(x='park_name', y='observations', hue='category', data=category_observations)\n",
    "plt.title('species observations by category')\n",
    "plt.xticks(rotation=30)\n",
    "plt.show()\n",
    "plt.clf()"
   ]
  },
  {
   "cell_type": "markdown",
   "metadata": {},
   "source": [
    "Once again we see that species diversity is the same across all four parks with only numbers of observations to be different."
   ]
  },
  {
   "cell_type": "markdown",
   "metadata": {},
   "source": [
    "## Conclusions\n",
    "1. Mammals are the most endangered category of species, followed by birds. Plants have the smallest percent of endangered species even though they have the most endangered species in quantity.\n",
    "2. Not endangered species are the most observed in national parks, followed by species of concern, species in recovery, threatened and endangered.\n",
    "3. There seem to be a correlation between mammals and reptiles being assigned with a conservation status but the output of a chi2 test was borderline positive so it is better to take this assumption with a grain of salt and look into it with further research.\n",
    "4. Species share the same distribution across all the parks with number of observations being the only difference.\n",
    "5. Yellowstone National Park has the largest number of observations of both species assigned with conservation status and not endangered species."
   ]
  },
  {
   "cell_type": "markdown",
   "metadata": {},
   "source": [
    "## Further research\n",
    "Continuing this research, it will be a good idea to increase the size of both observed parks and species.  \n",
    "It will help in confirming or rejecting stated conclusions and looking into new theories.  "
   ]
  }
 ],
 "metadata": {
  "kernelspec": {
   "display_name": "Python 3 (ipykernel)",
   "language": "python",
   "name": "python3"
  },
  "language_info": {
   "codemirror_mode": {
    "name": "ipython",
    "version": 3
   },
   "file_extension": ".py",
   "mimetype": "text/x-python",
   "name": "python",
   "nbconvert_exporter": "python",
   "pygments_lexer": "ipython3",
   "version": "3.9.7"
  }
 },
 "nbformat": 4,
 "nbformat_minor": 4
}
